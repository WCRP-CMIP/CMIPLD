{
  "nbformat": 4,
  "nbformat_minor": 0,
  "metadata": {
    "colab": {
      "provenance": [],
      "authorship_tag": "ABX9TyPAcwo+57FE9LPTVA2gyrFJ",
      "include_colab_link": true
    },
    "kernelspec": {
      "name": "python3",
      "display_name": "Python 3"
    },
    "language_info": {
      "name": "python"
    }
  },
  "cells": [
    {
      "cell_type": "markdown",
      "metadata": {
        "id": "view-in-github",
        "colab_type": "text"
      },
      "source": [
        "<a href=\"https://colab.research.google.com/github/WCRP-CMIP/CMIPLD/blob/main/%20notebooks/LoadingData.ipynb\" target=\"_parent\"><img src=\"https://colab.research.google.com/assets/colab-badge.svg\" alt=\"Open In Colab\"/></a>"
      ]
    },
    {
      "cell_type": "markdown",
      "source": [
        "# Exploring the different ways to load data in CMIPLD and what they give us.\n",
        "\n",
        "This notebook serves to show the basic usage of the cmipld library (getting the data from a file), and the different ways in which we can do this.\n",
        "\n",
        "\n",
        "\n",
        "\n",
        "We start by installing the library"
      ],
      "metadata": {
        "id": "Q3RyS12Ww3hh"
      }
    },
    {
      "cell_type": "code",
      "source": [
        "pip install cmipld"
      ],
      "metadata": {
        "collapsed": true,
        "id": "jnokpXbZw9-s"
      },
      "execution_count": null,
      "outputs": []
    },
    {
      "cell_type": "markdown",
      "source": [
        "## Next we import the cmipld library.\n",
        "This sets up the prefix re-direction and caching of any fetched files.\n",
        "\n",
        "\n",
        "To reset the cache, use `cmipld.loader.clear_cache()`"
      ],
      "metadata": {
        "id": "F6SEr_qexUq-"
      }
    },
    {
      "cell_type": "code",
      "source": [
        "import cmipld"
      ],
      "metadata": {
        "id": "GLaHoxuzxF3t"
      },
      "execution_count": 7,
      "outputs": []
    },
    {
      "cell_type": "markdown",
      "source": [
        "### To view the available prefixes and where their corresponding files are located, we can look at the mapping object."
      ],
      "metadata": {
        "id": "0BJDdFlDxsbI"
      }
    },
    {
      "cell_type": "code",
      "source": [
        "cmipld.mapping"
      ],
      "metadata": {
        "colab": {
          "base_uri": "https://localhost:8080/"
        },
        "id": "j3rS51hZxykK",
        "outputId": "0f1a4cba-dc8d-491a-e2b8-1e0b10683eb0"
      },
      "execution_count": 8,
      "outputs": [
        {
          "output_type": "execute_result",
          "data": {
            "text/plain": [
              "{'cf': 'https://wcrp-cmip.github.io/CF/',\n",
              " 'vr': 'https://wcrp-cmip.github.io/Variable-Registry/',\n",
              " 'cmip7': 'https://wcrp-cmip.github.io/CMIP7-CVs/',\n",
              " 'universal': 'https://wcrp-cmip.github.io/WCRP-universe/',\n",
              " 'cmip6plus': 'https://wcrp-cmip.github.io/CMIP6Plus_CVs/'}"
            ]
          },
          "metadata": {},
          "execution_count": 8
        }
      ]
    },
    {
      "cell_type": "markdown",
      "source": [
        "## We select our location, folder, and individual file we are interested in:\n",
        "\n",
        "Here we take the CMIP7_CVs, experiments folder and explore amip.json"
      ],
      "metadata": {
        "id": "9bu8qKmGxqeO"
      }
    },
    {
      "cell_type": "code",
      "source": [
        "amip = 'cmip7:experiment/amip'"
      ],
      "metadata": {
        "id": "SJFf0edRxmPg"
      },
      "execution_count": 11,
      "outputs": []
    },
    {
      "cell_type": "markdown",
      "source": [
        "## What are we linked to?\n",
        "\n",
        "Here we see that we have an activity (universal) dependancy on CMIP, and the AER,AGCM,BGC,CHEM source types (universal)."
      ],
      "metadata": {
        "id": "0DLN4OVqymAX"
      }
    },
    {
      "cell_type": "code",
      "source": [
        "cmipld.depends(amip)"
      ],
      "metadata": {
        "colab": {
          "base_uri": "https://localhost:8080/"
        },
        "id": "sxXsQ2GHyKF3",
        "outputId": "3944d262-e183-4d35-9e29-9236052e1bf5"
      },
      "execution_count": 18,
      "outputs": [
        {
          "output_type": "execute_result",
          "data": {
            "text/plain": [
              "{'https://wcrp-cmip.github.io/CMIP7-CVs/experiment/amip',\n",
              " 'https://wcrp-cmip.github.io/CMIP7-CVs/experiment/none',\n",
              " 'https://wcrp-cmip.github.io/WCRP-universe/activity/cmip',\n",
              " 'https://wcrp-cmip.github.io/WCRP-universe/source-type/aer',\n",
              " 'https://wcrp-cmip.github.io/WCRP-universe/source-type/agcm',\n",
              " 'https://wcrp-cmip.github.io/WCRP-universe/source-type/bgc',\n",
              " 'https://wcrp-cmip.github.io/WCRP-universe/source-type/chem'}"
            ]
          },
          "metadata": {},
          "execution_count": 18
        }
      ]
    },
    {
      "cell_type": "markdown",
      "source": [
        "## Getting the files\n",
        "To fetch the files we use the get command. This takes our jsonld file and resolves all links, substituting them in place."
      ],
      "metadata": {
        "id": "4CxNP8I55gx1"
      }
    },
    {
      "cell_type": "code",
      "source": [
        "cmipld.get"
      ],
      "metadata": {
        "colab": {
          "base_uri": "https://localhost:8080/",
          "height": 187
        },
        "id": "MW_oM8QA5PQv",
        "outputId": "51ddfa5d-5132-443b-b1d5-174a0e0d1ef5"
      },
      "execution_count": 20,
      "outputs": [
        {
          "output_type": "execute_result",
          "data": {
            "text/plain": [
              "<function cmipld.utils.extract.read.get(link, compact=True, depth=2)>"
            ],
            "text/html": [
              "<div style=\"max-width:800px; border: 1px solid var(--colab-border-color);\"><style>\n",
              "      pre.function-repr-contents {\n",
              "        overflow-x: auto;\n",
              "        padding: 8px 12px;\n",
              "        max-height: 500px;\n",
              "      }\n",
              "\n",
              "      pre.function-repr-contents.function-repr-contents-collapsed {\n",
              "        cursor: pointer;\n",
              "        max-height: 100px;\n",
              "      }\n",
              "    </style>\n",
              "    <pre style=\"white-space: initial; background:\n",
              "         var(--colab-secondary-surface-color); padding: 8px 12px;\n",
              "         border-bottom: 1px solid var(--colab-border-color);\"><b>cmipld.utils.extract.read.get</b><br/>def get(link, compact=True, depth=2)</pre><pre class=\"function-repr-contents function-repr-contents-collapsed\" style=\"\"><a class=\"filepath\" style=\"display:none\" href=\"#\">/usr/local/lib/python3.11/dist-packages/cmipld/utils/extract/read.py</a>Retrieves and processes a JSON-LD document from the given link.\n",
              "\n",
              "Parameters:\n",
              "    link (str): URL to the JSON-LD document.\n",
              "    compact (bool): Whether to compact the final output using the original context.\n",
              "    depth (int): How many levels deep to follow and resolve @id references.\n",
              "\n",
              "Returns:\n",
              "    dict or list: The resolved and optionally compacted JSON-LD document.</pre>\n",
              "      <script>\n",
              "      if (google.colab.kernel.accessAllowed && google.colab.files && google.colab.files.view) {\n",
              "        for (const element of document.querySelectorAll('.filepath')) {\n",
              "          element.style.display = 'block'\n",
              "          element.onclick = (event) => {\n",
              "            event.preventDefault();\n",
              "            event.stopPropagation();\n",
              "            google.colab.files.view(element.textContent, 5);\n",
              "          };\n",
              "        }\n",
              "      }\n",
              "      for (const element of document.querySelectorAll('.function-repr-contents')) {\n",
              "        element.onclick = (event) => {\n",
              "          event.preventDefault();\n",
              "          event.stopPropagation();\n",
              "          element.classList.toggle('function-repr-contents-collapsed');\n",
              "        };\n",
              "      }\n",
              "      </script>\n",
              "      </div>"
            ]
          },
          "metadata": {},
          "execution_count": 20
        }
      ]
    },
    {
      "cell_type": "code",
      "source": [
        "cmipld.get(amip)"
      ],
      "metadata": {
        "colab": {
          "base_uri": "https://localhost:8080/"
        },
        "id": "_zjTOJIWyvSD",
        "outputId": "bde2d45f-af2d-4f80-bbc3-f8643226a112"
      },
      "execution_count": 24,
      "outputs": [
        {
          "output_type": "execute_result",
          "data": {
            "text/plain": [
              "{'@context': 'cmip7:experiment/amip',\n",
              " 'id': 'cmip7:experiment/amip',\n",
              " 'type': ['wcrp:experiment', 'cmip7'],\n",
              " 'activity': {'id': 'universal:activity/cmip',\n",
              "  'type': ['wcrp:activity', 'universal'],\n",
              "  'description': 'CMIP DECK: 1pctCO2, abrupt-4xCO2, amip, esm-piControl, esm-historical, historical, and piControl experiments',\n",
              "  'ui-label': '',\n",
              "  'url': 'https://gmd.copernicus.org/articles/9/1937/2016/gmd-9-1937-2016.pdf',\n",
              "  'validation-key': 'CMIP'},\n",
              " 'alias': [],\n",
              " 'description': 'DECK: AMIP \\n AMIP (Atmospheric Model Intercomparison Project) experiment with prescribed SSTs and sea ice',\n",
              " 'end': 2021,\n",
              " 'min-number-yrs-per-sim': 43,\n",
              " 'model-realms': [{'id': 'universal:source-type/agcm',\n",
              "   'type': ['wcrp:source-type', 'universal'],\n",
              "   'description': 'atmospheric general circulation model run with prescribed ocean surface conditions and usually a model of the land surface',\n",
              "   'is-required': True,\n",
              "   'ui-label': '',\n",
              "   'validation-key': 'AGCM'},\n",
              "  {'id': 'universal:source-type/aer',\n",
              "   'type': ['wcrp:source-type', 'universal'],\n",
              "   'description': 'aerosol treatment in an atmospheric model where concentrations are calculated based on emissions, transformation, and removal processes (rather than being prescribed or omitted entirely)',\n",
              "   'is-required': False,\n",
              "   'ui-label': '',\n",
              "   'validation-key': 'AER'},\n",
              "  {'id': 'universal:source-type/chem',\n",
              "   'type': ['wcrp:source-type', 'universal'],\n",
              "   'description': 'chemistry treatment in an atmospheric model that calculates atmospheric oxidant concentrations (including at least ozone), rather than prescribing them',\n",
              "   'is-required': False,\n",
              "   'ui-label': '',\n",
              "   'validation-key': 'CHEM'},\n",
              "  {'id': 'universal:source-type/bgc',\n",
              "   'type': ['wcrp:source-type', 'universal'],\n",
              "   'description': 'biogeochemistry model component that at the very least accounts for carbon reservoirs and fluxes in the atmosphere, terrestrial biosphere, and ocean',\n",
              "   'is-required': False,\n",
              "   'ui-label': '',\n",
              "   'validation-key': 'BGC'}],\n",
              " 'parent-experiment': 'cmip7:experiment/none',\n",
              " 'start': 1979,\n",
              " 'start-date': 'none',\n",
              " 'tier': 0,\n",
              " 'ui-label': 'Describe amip in one sentence.',\n",
              " 'validation-key': 'amip'}"
            ]
          },
          "metadata": {},
          "execution_count": 24
        }
      ]
    },
    {
      "cell_type": "markdown",
      "source": [
        "# Using pyld\n",
        "\n",
        "As our CMIPLD library has monkeypatched the requests api, this will also prefixes to work with the standard library.\n",
        "\n",
        "**Note** here we see, that the recursive substitution has not been carried out and will need to manually be added."
      ],
      "metadata": {
        "id": "Jlrl_2EI6Al7"
      }
    },
    {
      "cell_type": "code",
      "source": [
        "from pyld import jsonld"
      ],
      "metadata": {
        "id": "MZjpcNBr3lpk"
      },
      "execution_count": 25,
      "outputs": []
    },
    {
      "cell_type": "code",
      "source": [
        "jsonld.compact(amip,amip)"
      ],
      "metadata": {
        "colab": {
          "base_uri": "https://localhost:8080/"
        },
        "id": "Tbn02y4J6Q1a",
        "outputId": "8b749295-e256-4033-a795-72edc6d83641"
      },
      "execution_count": 26,
      "outputs": [
        {
          "output_type": "execute_result",
          "data": {
            "text/plain": [
              "{'@context': 'cmip7:experiment/amip',\n",
              " 'id': 'cmip7:experiment/amip',\n",
              " 'type': ['wcrp:experiment', 'cmip7'],\n",
              " 'activity': 'universal:activity/cmip',\n",
              " 'alias': [],\n",
              " 'description': 'DECK: AMIP \\n AMIP (Atmospheric Model Intercomparison Project) experiment with prescribed SSTs and sea ice',\n",
              " 'end': 2021,\n",
              " 'min-number-yrs-per-sim': 43,\n",
              " 'model-realms': [{'id': 'universal:source-type/agcm', 'is-required': True},\n",
              "  {'id': 'universal:source-type/aer', 'is-required': False},\n",
              "  {'id': 'universal:source-type/chem', 'is-required': False},\n",
              "  {'id': 'universal:source-type/bgc', 'is-required': False}],\n",
              " 'parent-experiment': 'cmip7:experiment/none',\n",
              " 'start': 1979,\n",
              " 'start-date': 'none',\n",
              " 'tier': 0,\n",
              " 'ui-label': 'Describe amip in one sentence.',\n",
              " 'validation-key': 'amip'}"
            ]
          },
          "metadata": {},
          "execution_count": 26
        }
      ]
    },
    {
      "cell_type": "markdown",
      "source": [
        "We can also get the expanded view:"
      ],
      "metadata": {
        "id": "aYiYqv2L6Vkr"
      }
    },
    {
      "cell_type": "code",
      "source": [
        "jsonld.expand(amip)"
      ],
      "metadata": {
        "colab": {
          "base_uri": "https://localhost:8080/"
        },
        "id": "4ax4ZXcg6TT1",
        "outputId": "4b6e2c3d-9f61-4fee-e54c-33b633ccb33e"
      },
      "execution_count": 31,
      "outputs": [
        {
          "output_type": "execute_result",
          "data": {
            "text/plain": [
              "[{'https://wcrp-cmip.github.io/CMIP7-CVs/experiment/activity': [{'@id': 'https://wcrp-cmip.github.io/WCRP-universe/activity/cmip'}],\n",
              "  'https://wcrp-cmip.github.io/CMIP7-CVs/experiment/alias': [],\n",
              "  'https://wcrp-cmip.github.io/CMIP7-CVs/experiment/description': [{'@value': 'DECK: AMIP \\n AMIP (Atmospheric Model Intercomparison Project) experiment with prescribed SSTs and sea ice'}],\n",
              "  'https://wcrp-cmip.github.io/CMIP7-CVs/experiment/end': [{'@value': 2021}],\n",
              "  '@id': 'https://wcrp-cmip.github.io/CMIP7-CVs/experiment/amip',\n",
              "  'https://wcrp-cmip.github.io/CMIP7-CVs/experiment/min-number-yrs-per-sim': [{'@value': 43}],\n",
              "  'https://wcrp-cmip.github.io/CMIP7-CVs/experiment/model-realms': [{'@id': 'https://wcrp-cmip.github.io/WCRP-universe/source-type/agcm',\n",
              "    'https://wcrp-cmip.github.io/WCRP-universe/source-type/is-required': [{'@value': True}]},\n",
              "   {'@id': 'https://wcrp-cmip.github.io/WCRP-universe/source-type/aer',\n",
              "    'https://wcrp-cmip.github.io/WCRP-universe/source-type/is-required': [{'@value': False}]},\n",
              "   {'@id': 'https://wcrp-cmip.github.io/WCRP-universe/source-type/chem',\n",
              "    'https://wcrp-cmip.github.io/WCRP-universe/source-type/is-required': [{'@value': False}]},\n",
              "   {'@id': 'https://wcrp-cmip.github.io/WCRP-universe/source-type/bgc',\n",
              "    'https://wcrp-cmip.github.io/WCRP-universe/source-type/is-required': [{'@value': False}]}],\n",
              "  'https://wcrp-cmip.github.io/CMIP7-CVs/experiment/parent-experiment': [{'@id': 'https://wcrp-cmip.github.io/CMIP7-CVs/experiment/none'}],\n",
              "  'https://wcrp-cmip.github.io/CMIP7-CVs/experiment/start': [{'@value': 1979}],\n",
              "  'https://wcrp-cmip.github.io/CMIP7-CVs/experiment/start-date': [{'@value': 'none'}],\n",
              "  'https://wcrp-cmip.github.io/CMIP7-CVs/experiment/tier': [{'@value': 0}],\n",
              "  '@type': ['wcrp:experiment', 'https://wcrp-cmip.github.io/CMIP7-CVs/'],\n",
              "  'https://wcrp-cmip.github.io/CMIP7-CVs/experiment/ui-label': [{'@value': 'Describe amip in one sentence.'}],\n",
              "  'https://wcrp-cmip.github.io/CMIP7-CVs/experiment/validation-key': [{'@value': 'amip'}]}]"
            ]
          },
          "metadata": {},
          "execution_count": 31
        }
      ]
    },
    {
      "cell_type": "markdown",
      "source": [
        "And the RDF strings for the dependancies"
      ],
      "metadata": {
        "id": "Ds0Co8Rb7ZCe"
      }
    },
    {
      "cell_type": "code",
      "source": [
        "jsonld.to_rdf(amip)"
      ],
      "metadata": {
        "colab": {
          "base_uri": "https://localhost:8080/"
        },
        "id": "mvl2TrxX6twa",
        "outputId": "9d5ea377-ca9a-441f-e8e8-09c276fbb2b8"
      },
      "execution_count": 32,
      "outputs": [
        {
          "output_type": "execute_result",
          "data": {
            "text/plain": [
              "{'@default': [{'subject': {'type': 'IRI',\n",
              "    'value': 'https://wcrp-cmip.github.io/CMIP7-CVs/experiment/amip'},\n",
              "   'predicate': {'type': 'IRI',\n",
              "    'value': 'http://www.w3.org/1999/02/22-rdf-syntax-ns#type'},\n",
              "   'object': {'type': 'IRI', 'value': 'wcrp:experiment'}},\n",
              "  {'subject': {'type': 'IRI',\n",
              "    'value': 'https://wcrp-cmip.github.io/CMIP7-CVs/experiment/amip'},\n",
              "   'predicate': {'type': 'IRI',\n",
              "    'value': 'http://www.w3.org/1999/02/22-rdf-syntax-ns#type'},\n",
              "   'object': {'type': 'IRI',\n",
              "    'value': 'https://wcrp-cmip.github.io/CMIP7-CVs/'}},\n",
              "  {'subject': {'type': 'IRI',\n",
              "    'value': 'https://wcrp-cmip.github.io/CMIP7-CVs/experiment/amip'},\n",
              "   'predicate': {'type': 'IRI',\n",
              "    'value': 'https://wcrp-cmip.github.io/CMIP7-CVs/experiment/activity'},\n",
              "   'object': {'type': 'IRI',\n",
              "    'value': 'https://wcrp-cmip.github.io/WCRP-universe/activity/cmip'}},\n",
              "  {'subject': {'type': 'IRI',\n",
              "    'value': 'https://wcrp-cmip.github.io/CMIP7-CVs/experiment/amip'},\n",
              "   'predicate': {'type': 'IRI',\n",
              "    'value': 'https://wcrp-cmip.github.io/CMIP7-CVs/experiment/description'},\n",
              "   'object': {'type': 'literal',\n",
              "    'value': 'DECK: AMIP \\n AMIP (Atmospheric Model Intercomparison Project) experiment with prescribed SSTs and sea ice',\n",
              "    'datatype': 'http://www.w3.org/2001/XMLSchema#string'}},\n",
              "  {'subject': {'type': 'IRI',\n",
              "    'value': 'https://wcrp-cmip.github.io/CMIP7-CVs/experiment/amip'},\n",
              "   'predicate': {'type': 'IRI',\n",
              "    'value': 'https://wcrp-cmip.github.io/CMIP7-CVs/experiment/end'},\n",
              "   'object': {'type': 'literal',\n",
              "    'value': '2021',\n",
              "    'datatype': 'http://www.w3.org/2001/XMLSchema#integer'}},\n",
              "  {'subject': {'type': 'IRI',\n",
              "    'value': 'https://wcrp-cmip.github.io/CMIP7-CVs/experiment/amip'},\n",
              "   'predicate': {'type': 'IRI',\n",
              "    'value': 'https://wcrp-cmip.github.io/CMIP7-CVs/experiment/min-number-yrs-per-sim'},\n",
              "   'object': {'type': 'literal',\n",
              "    'value': '43',\n",
              "    'datatype': 'http://www.w3.org/2001/XMLSchema#integer'}},\n",
              "  {'subject': {'type': 'IRI',\n",
              "    'value': 'https://wcrp-cmip.github.io/CMIP7-CVs/experiment/amip'},\n",
              "   'predicate': {'type': 'IRI',\n",
              "    'value': 'https://wcrp-cmip.github.io/CMIP7-CVs/experiment/model-realms'},\n",
              "   'object': {'type': 'IRI',\n",
              "    'value': 'https://wcrp-cmip.github.io/WCRP-universe/source-type/agcm'}},\n",
              "  {'subject': {'type': 'IRI',\n",
              "    'value': 'https://wcrp-cmip.github.io/CMIP7-CVs/experiment/amip'},\n",
              "   'predicate': {'type': 'IRI',\n",
              "    'value': 'https://wcrp-cmip.github.io/CMIP7-CVs/experiment/model-realms'},\n",
              "   'object': {'type': 'IRI',\n",
              "    'value': 'https://wcrp-cmip.github.io/WCRP-universe/source-type/aer'}},\n",
              "  {'subject': {'type': 'IRI',\n",
              "    'value': 'https://wcrp-cmip.github.io/CMIP7-CVs/experiment/amip'},\n",
              "   'predicate': {'type': 'IRI',\n",
              "    'value': 'https://wcrp-cmip.github.io/CMIP7-CVs/experiment/model-realms'},\n",
              "   'object': {'type': 'IRI',\n",
              "    'value': 'https://wcrp-cmip.github.io/WCRP-universe/source-type/chem'}},\n",
              "  {'subject': {'type': 'IRI',\n",
              "    'value': 'https://wcrp-cmip.github.io/CMIP7-CVs/experiment/amip'},\n",
              "   'predicate': {'type': 'IRI',\n",
              "    'value': 'https://wcrp-cmip.github.io/CMIP7-CVs/experiment/model-realms'},\n",
              "   'object': {'type': 'IRI',\n",
              "    'value': 'https://wcrp-cmip.github.io/WCRP-universe/source-type/bgc'}},\n",
              "  {'subject': {'type': 'IRI',\n",
              "    'value': 'https://wcrp-cmip.github.io/CMIP7-CVs/experiment/amip'},\n",
              "   'predicate': {'type': 'IRI',\n",
              "    'value': 'https://wcrp-cmip.github.io/CMIP7-CVs/experiment/parent-experiment'},\n",
              "   'object': {'type': 'IRI',\n",
              "    'value': 'https://wcrp-cmip.github.io/CMIP7-CVs/experiment/none'}},\n",
              "  {'subject': {'type': 'IRI',\n",
              "    'value': 'https://wcrp-cmip.github.io/CMIP7-CVs/experiment/amip'},\n",
              "   'predicate': {'type': 'IRI',\n",
              "    'value': 'https://wcrp-cmip.github.io/CMIP7-CVs/experiment/start'},\n",
              "   'object': {'type': 'literal',\n",
              "    'value': '1979',\n",
              "    'datatype': 'http://www.w3.org/2001/XMLSchema#integer'}},\n",
              "  {'subject': {'type': 'IRI',\n",
              "    'value': 'https://wcrp-cmip.github.io/CMIP7-CVs/experiment/amip'},\n",
              "   'predicate': {'type': 'IRI',\n",
              "    'value': 'https://wcrp-cmip.github.io/CMIP7-CVs/experiment/start-date'},\n",
              "   'object': {'type': 'literal',\n",
              "    'value': 'none',\n",
              "    'datatype': 'http://www.w3.org/2001/XMLSchema#string'}},\n",
              "  {'subject': {'type': 'IRI',\n",
              "    'value': 'https://wcrp-cmip.github.io/CMIP7-CVs/experiment/amip'},\n",
              "   'predicate': {'type': 'IRI',\n",
              "    'value': 'https://wcrp-cmip.github.io/CMIP7-CVs/experiment/tier'},\n",
              "   'object': {'type': 'literal',\n",
              "    'value': '0',\n",
              "    'datatype': 'http://www.w3.org/2001/XMLSchema#integer'}},\n",
              "  {'subject': {'type': 'IRI',\n",
              "    'value': 'https://wcrp-cmip.github.io/CMIP7-CVs/experiment/amip'},\n",
              "   'predicate': {'type': 'IRI',\n",
              "    'value': 'https://wcrp-cmip.github.io/CMIP7-CVs/experiment/ui-label'},\n",
              "   'object': {'type': 'literal',\n",
              "    'value': 'Describe amip in one sentence.',\n",
              "    'datatype': 'http://www.w3.org/2001/XMLSchema#string'}},\n",
              "  {'subject': {'type': 'IRI',\n",
              "    'value': 'https://wcrp-cmip.github.io/CMIP7-CVs/experiment/amip'},\n",
              "   'predicate': {'type': 'IRI',\n",
              "    'value': 'https://wcrp-cmip.github.io/CMIP7-CVs/experiment/validation-key'},\n",
              "   'object': {'type': 'literal',\n",
              "    'value': 'amip',\n",
              "    'datatype': 'http://www.w3.org/2001/XMLSchema#string'}},\n",
              "  {'subject': {'type': 'IRI',\n",
              "    'value': 'https://wcrp-cmip.github.io/WCRP-universe/source-type/aer'},\n",
              "   'predicate': {'type': 'IRI',\n",
              "    'value': 'https://wcrp-cmip.github.io/WCRP-universe/source-type/is-required'},\n",
              "   'object': {'type': 'literal',\n",
              "    'value': 'false',\n",
              "    'datatype': 'http://www.w3.org/2001/XMLSchema#boolean'}},\n",
              "  {'subject': {'type': 'IRI',\n",
              "    'value': 'https://wcrp-cmip.github.io/WCRP-universe/source-type/agcm'},\n",
              "   'predicate': {'type': 'IRI',\n",
              "    'value': 'https://wcrp-cmip.github.io/WCRP-universe/source-type/is-required'},\n",
              "   'object': {'type': 'literal',\n",
              "    'value': 'true',\n",
              "    'datatype': 'http://www.w3.org/2001/XMLSchema#boolean'}},\n",
              "  {'subject': {'type': 'IRI',\n",
              "    'value': 'https://wcrp-cmip.github.io/WCRP-universe/source-type/bgc'},\n",
              "   'predicate': {'type': 'IRI',\n",
              "    'value': 'https://wcrp-cmip.github.io/WCRP-universe/source-type/is-required'},\n",
              "   'object': {'type': 'literal',\n",
              "    'value': 'false',\n",
              "    'datatype': 'http://www.w3.org/2001/XMLSchema#boolean'}},\n",
              "  {'subject': {'type': 'IRI',\n",
              "    'value': 'https://wcrp-cmip.github.io/WCRP-universe/source-type/chem'},\n",
              "   'predicate': {'type': 'IRI',\n",
              "    'value': 'https://wcrp-cmip.github.io/WCRP-universe/source-type/is-required'},\n",
              "   'object': {'type': 'literal',\n",
              "    'value': 'false',\n",
              "    'datatype': 'http://www.w3.org/2001/XMLSchema#boolean'}}]}"
            ]
          },
          "metadata": {},
          "execution_count": 32
        }
      ]
    }
  ]
}